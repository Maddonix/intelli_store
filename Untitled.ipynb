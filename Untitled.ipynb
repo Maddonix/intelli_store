{
 "cells": [
  {
   "cell_type": "code",
   "execution_count": 24,
   "id": "166433cf",
   "metadata": {},
   "outputs": [],
   "source": [
    "import pandas as pd\n",
    "# import lux"
   ]
  },
  {
   "cell_type": "code",
   "execution_count": 25,
   "id": "1b479e20",
   "metadata": {},
   "outputs": [],
   "source": [
    "df = pd.read_excel(\"IMD_Endoskopie.xlsx\")"
   ]
  },
  {
   "cell_type": "code",
   "execution_count": 26,
   "id": "a0e1289d",
   "metadata": {},
   "outputs": [
    {
     "data": {
      "text/plain": [
       "Index(['Laufende Nr. der Materialdokumentation', 'Lfd.Nr', 'Angelegt am',\n",
       "       'Erfass.zeit', 'Verabreichungsdatum', 'Verabreichungszeit',\n",
       "       'Geändert am', 'Uhrzeit', 'Status Materialdokumentation',\n",
       "       'Materialnummer', 'Materialtext', 'Name 1', 'Materialmenge',\n",
       "       'Mengeneinheit', 'Materialpreis', 'Währung', 'Anford. OE fachlich',\n",
       "       'Lfd. Nr. Leistung'],\n",
       "      dtype='object')"
      ]
     },
     "execution_count": 26,
     "metadata": {},
     "output_type": "execute_result"
    }
   ],
   "source": [
    "df.columns"
   ]
  },
  {
   "cell_type": "code",
   "execution_count": 27,
   "id": "f5cc29ce",
   "metadata": {},
   "outputs": [
    {
     "data": {
      "text/plain": [
       "array(['EUR', nan], dtype=object)"
      ]
     },
     "execution_count": 27,
     "metadata": {},
     "output_type": "execute_result"
    }
   ],
   "source": [
    "df[\"Währung\"].unique()"
   ]
  },
  {
   "cell_type": "code",
   "execution_count": 54,
   "id": "cfbdd530",
   "metadata": {},
   "outputs": [],
   "source": [
    "df2 = pd.read_excel(\"Materialdokumentation.xlsx\")"
   ]
  },
  {
   "cell_type": "code",
   "execution_count": 55,
   "id": "f731658a",
   "metadata": {},
   "outputs": [],
   "source": [
    "# df2 = df2.set_index([\"Auftragsnummer\"])\n",
    "# df2.lco[101192086]"
   ]
  },
  {
   "cell_type": "code",
   "execution_count": 30,
   "id": "fa454dca",
   "metadata": {},
   "outputs": [
    {
     "data": {
      "text/plain": [
       "True"
      ]
     },
     "execution_count": 30,
     "metadata": {},
     "output_type": "execute_result"
    }
   ],
   "source": [
    "len(df2.index) == len(df2.index.unique())"
   ]
  },
  {
   "cell_type": "code",
   "execution_count": 31,
   "id": "0d62f8b4",
   "metadata": {},
   "outputs": [],
   "source": [
    "# transform_str = [\n",
    "#     \"Laufende Nr. der Materialdokumentation\",\n",
    "#     \"Lfd.Nr\",\n",
    "#     \"Fall\",\n",
    "#     \"Status Materialdokumentation\",\n",
    "#     \"Materialnummer\",\n",
    "#     \"Anford. OE fachlich\",\n",
    "#     \"Anford. OE pfleger.\",\n",
    "#     \"Erbringende Orgeinh\"\n",
    "# ]\n",
    "\n",
    "# drop_cols_list = [\n",
    "#     \"Erfass.zeit\",\n",
    "#     \"Uhrzeit\",\n",
    "#     \"Materialtext\",\n",
    "#     \"Name 1\", #only EUR and nan in our list\n",
    "#     \"Mengeneinheit\",\n",
    "#     \"Währung\", \n",
    "#     \"Verabreichungszeit\",\n",
    "# ]"
   ]
  },
  {
   "cell_type": "code",
   "execution_count": 32,
   "id": "e4f8b391",
   "metadata": {},
   "outputs": [],
   "source": [
    "from collections import Counter"
   ]
  },
  {
   "cell_type": "code",
   "execution_count": null,
   "id": "bcd78612",
   "metadata": {},
   "outputs": [],
   "source": []
  },
  {
   "cell_type": "code",
   "execution_count": 33,
   "id": "fbf1885f",
   "metadata": {},
   "outputs": [],
   "source": [
    "mat_ids_counter = Counter(df[\"Materialnummer\"])"
   ]
  },
  {
   "cell_type": "code",
   "execution_count": 34,
   "id": "fc365775",
   "metadata": {},
   "outputs": [],
   "source": [
    "top_20_mat_id = [_[0] for _ in mat_ids_counter.most_common(20)]"
   ]
  },
  {
   "cell_type": "code",
   "execution_count": 133,
   "id": "034143fb",
   "metadata": {},
   "outputs": [],
   "source": [
    "def get_features(df, df2, mat_ids):\n",
    "    no_match = []\n",
    "    # make df\n",
    "    cols = [\n",
    "        \"Laufende Nr. der Materialdokumentation\",\n",
    "        \"Lfd. Nr. Leistung\",\n",
    "        \"Arzt ID\",\n",
    "        \"U-Dauer\",\n",
    "        \"Leistung_DGVS\",\n",
    "        \"Untersucher\",\n",
    "        \"Fachgebiet\"\n",
    "    ] + mat_ids\n",
    "    features = pd.DataFrame(columns = cols)\n",
    "    \n",
    "    # ids\n",
    "    case_ids = df[\"Laufende Nr. der Materialdokumentation\"].unique()\n",
    "    \n",
    "    features[\"Laufende Nr. der Materialdokumentation\"] = case_ids\n",
    "    features = features.fillna(0)\n",
    "    features.set_index(\"Laufende Nr. der Materialdokumentation\", drop = True, inplace = True)\n",
    "    for case_id in tqdm(case_ids):\n",
    "        tmp = df[df[\"Laufende Nr. der Materialdokumentation\"] == case_id]\n",
    "        leistung = tmp[\"Lfd. Nr. Leistung\"].unique()\n",
    "        assert len(leistung) == 1\n",
    "        leistung = leistung[0]\n",
    "        if leistung in df2[\"Auftragsnummer\"].to_list():\n",
    "            arzt_id = tmp[\"Anford. OE fachlich\"].unique()\n",
    "            assert len(arzt_id) == 1\n",
    "\n",
    "            features.loc[case_id, \"Arzt ID\"] = arzt_id[0]\n",
    "            features.loc[case_id, \"Lfd. Nr. Leistung\"] = leistung\n",
    "            _tmp = df2[df2[\"Auftragsnummer\"] == leistung]\n",
    "            features.loc[case_id, \"U-Dauer\"] = _tmp[\"U-Dauer\"].to_list()[0]\n",
    "            features.loc[case_id, \"Leistung_DGVS\"] = _tmp[\"Leistung_DGVS\"].to_list()[0]\n",
    "            features.loc[case_id, \"Untersucher\"] = _tmp[\"Untersucher\"].to_list()[0]\n",
    "            features.loc[case_id, \"Fachgebiet\"] = _tmp[\"Fachgebiet\"].to_list()[0]\n",
    "                       \n",
    "        else:\n",
    "            no_match.append(leistung)\n",
    "        # Untersuchungsart\n",
    "        # Untersuchungsdauer Geplant\n",
    "\n",
    "        for index, row in tmp.iterrows():\n",
    "            mat_nr = row[\"Materialnummer\"]\n",
    "            mat_amount = row[\"Materialmenge\"]\n",
    "            if mat_nr in mat_ids:\n",
    "                features.loc[case_id, mat_nr] += mat_amount\n",
    "\n",
    "    return features, no_match\n",
    "        # Insert arzt + pflege id    "
   ]
  },
  {
   "cell_type": "code",
   "execution_count": 134,
   "id": "86e2d62c",
   "metadata": {},
   "outputs": [
    {
     "data": {
      "application/vnd.jupyter.widget-view+json": {
       "model_id": "d6463ab1e6a941cbb5dc75c9e92f0f16",
       "version_major": 2,
       "version_minor": 0
      },
      "text/plain": [
       "  0%|          | 0/1445 [00:00<?, ?it/s]"
      ]
     },
     "metadata": {},
     "output_type": "display_data"
    }
   ],
   "source": [
    "features, no_match = get_features(df, df2, top_20_mat_id)\n",
    "# tmp, features =  get_features(df, df2, top_20_mat_id)\n",
    "# from tqdm.auto import tqdm"
   ]
  },
  {
   "cell_type": "code",
   "execution_count": 135,
   "id": "619f912b",
   "metadata": {},
   "outputs": [
    {
     "data": {
      "text/plain": [
       "86"
      ]
     },
     "execution_count": 135,
     "metadata": {},
     "output_type": "execute_result"
    }
   ],
   "source": [
    "len(no_match)"
   ]
  },
  {
   "cell_type": "code",
   "execution_count": 136,
   "id": "30145285",
   "metadata": {},
   "outputs": [
    {
     "data": {
      "text/plain": [
       "Index(['Lfd. Nr. Leistung',           'Arzt ID',           'U-Dauer',\n",
       "           'Leistung_DGVS',       'Untersucher',        'Fachgebiet',\n",
       "                11129089.0,          11129570.0,          10191424.0,\n",
       "                10196004.0,          11101690.0,          11125327.0,\n",
       "                11102264.0,          11126032.0,          11103277.0,\n",
       "                10186917.0,          10102023.0,          11111564.0,\n",
       "                11112681.0,          11126828.0,          10161327.0,\n",
       "                11118566.0,          10125401.0,          11126396.0,\n",
       "                10175708.0,          10168171.0],\n",
       "      dtype='object')"
      ]
     },
     "execution_count": 136,
     "metadata": {},
     "output_type": "execute_result"
    }
   ],
   "source": [
    "features.columns"
   ]
  },
  {
   "cell_type": "code",
   "execution_count": 132,
   "id": "c5f67e46",
   "metadata": {},
   "outputs": [
    {
     "data": {
      "text/plain": [
       "443"
      ]
     },
     "execution_count": 132,
     "metadata": {},
     "output_type": "execute_result"
    }
   ],
   "source": [
    "features[11129089.0].sum()"
   ]
  },
  {
   "cell_type": "code",
   "execution_count": 138,
   "id": "cce3a972",
   "metadata": {},
   "outputs": [],
   "source": [
    "features.to_excel(\"features.xlsx\")"
   ]
  },
  {
   "cell_type": "code",
   "execution_count": 125,
   "id": "4b5a4ad7",
   "metadata": {},
   "outputs": [
    {
     "name": "stderr",
     "output_type": "stream",
     "text": [
      "D:\\Programming\\miniconda\\envs\\intelli_store\\lib\\site-packages\\IPython\\core\\formatters.py:345: UserWarning:\n",
      "Lux defaults to Pandas when there are no valid actions defined.\n"
     ]
    },
    {
     "data": {
      "text/html": [
       "<div>\n",
       "<style scoped>\n",
       "    .dataframe tbody tr th:only-of-type {\n",
       "        vertical-align: middle;\n",
       "    }\n",
       "\n",
       "    .dataframe tbody tr th {\n",
       "        vertical-align: top;\n",
       "    }\n",
       "\n",
       "    .dataframe thead th {\n",
       "        text-align: right;\n",
       "    }\n",
       "</style>\n",
       "<table border=\"1\" class=\"dataframe\">\n",
       "  <thead>\n",
       "    <tr style=\"text-align: right;\">\n",
       "      <th></th>\n",
       "      <th>Untersuchungsart</th>\n",
       "      <th>Untersuchungsdauer Geplant</th>\n",
       "      <th>Arzt ID</th>\n",
       "      <th>Pflege ID</th>\n",
       "      <th>11129089.0</th>\n",
       "      <th>11129570.0</th>\n",
       "      <th>10191424.0</th>\n",
       "      <th>10196004.0</th>\n",
       "      <th>11101690.0</th>\n",
       "      <th>11125327.0</th>\n",
       "      <th>...</th>\n",
       "      <th>10102023.0</th>\n",
       "      <th>11111564.0</th>\n",
       "      <th>11112681.0</th>\n",
       "      <th>11126828.0</th>\n",
       "      <th>10161327.0</th>\n",
       "      <th>11118566.0</th>\n",
       "      <th>10125401.0</th>\n",
       "      <th>11126396.0</th>\n",
       "      <th>10175708.0</th>\n",
       "      <th>10168171.0</th>\n",
       "    </tr>\n",
       "    <tr>\n",
       "      <th>Laufende Nr. der Materialdokumentation</th>\n",
       "      <th></th>\n",
       "      <th></th>\n",
       "      <th></th>\n",
       "      <th></th>\n",
       "      <th></th>\n",
       "      <th></th>\n",
       "      <th></th>\n",
       "      <th></th>\n",
       "      <th></th>\n",
       "      <th></th>\n",
       "      <th></th>\n",
       "      <th></th>\n",
       "      <th></th>\n",
       "      <th></th>\n",
       "      <th></th>\n",
       "      <th></th>\n",
       "      <th></th>\n",
       "      <th></th>\n",
       "      <th></th>\n",
       "      <th></th>\n",
       "      <th></th>\n",
       "    </tr>\n",
       "  </thead>\n",
       "  <tbody>\n",
       "    <tr>\n",
       "      <th>1000003572</th>\n",
       "      <td>0</td>\n",
       "      <td>0</td>\n",
       "      <td>3201</td>\n",
       "      <td>339151</td>\n",
       "      <td>0</td>\n",
       "      <td>0</td>\n",
       "      <td>0</td>\n",
       "      <td>0</td>\n",
       "      <td>0</td>\n",
       "      <td>0</td>\n",
       "      <td>...</td>\n",
       "      <td>0</td>\n",
       "      <td>0</td>\n",
       "      <td>0</td>\n",
       "      <td>0</td>\n",
       "      <td>0</td>\n",
       "      <td>0</td>\n",
       "      <td>0</td>\n",
       "      <td>0</td>\n",
       "      <td>0</td>\n",
       "      <td>0</td>\n",
       "    </tr>\n",
       "    <tr>\n",
       "      <th>1000003573</th>\n",
       "      <td>0</td>\n",
       "      <td>0</td>\n",
       "      <td>3301</td>\n",
       "      <td>339151</td>\n",
       "      <td>0</td>\n",
       "      <td>0</td>\n",
       "      <td>0</td>\n",
       "      <td>0</td>\n",
       "      <td>0</td>\n",
       "      <td>0</td>\n",
       "      <td>...</td>\n",
       "      <td>0</td>\n",
       "      <td>0</td>\n",
       "      <td>0</td>\n",
       "      <td>0</td>\n",
       "      <td>0</td>\n",
       "      <td>0</td>\n",
       "      <td>0</td>\n",
       "      <td>0</td>\n",
       "      <td>0</td>\n",
       "      <td>0</td>\n",
       "    </tr>\n",
       "    <tr>\n",
       "      <th>1000003574</th>\n",
       "      <td>0</td>\n",
       "      <td>0</td>\n",
       "      <td>4415</td>\n",
       "      <td>339151</td>\n",
       "      <td>0</td>\n",
       "      <td>0</td>\n",
       "      <td>0</td>\n",
       "      <td>0</td>\n",
       "      <td>0</td>\n",
       "      <td>1</td>\n",
       "      <td>...</td>\n",
       "      <td>0</td>\n",
       "      <td>0</td>\n",
       "      <td>0</td>\n",
       "      <td>0</td>\n",
       "      <td>0</td>\n",
       "      <td>0</td>\n",
       "      <td>0</td>\n",
       "      <td>0</td>\n",
       "      <td>0</td>\n",
       "      <td>0</td>\n",
       "    </tr>\n",
       "    <tr>\n",
       "      <th>1000003575</th>\n",
       "      <td>0</td>\n",
       "      <td>0</td>\n",
       "      <td>3301</td>\n",
       "      <td>339151</td>\n",
       "      <td>0</td>\n",
       "      <td>0</td>\n",
       "      <td>0</td>\n",
       "      <td>0</td>\n",
       "      <td>0</td>\n",
       "      <td>1</td>\n",
       "      <td>...</td>\n",
       "      <td>0</td>\n",
       "      <td>0</td>\n",
       "      <td>0</td>\n",
       "      <td>0</td>\n",
       "      <td>0</td>\n",
       "      <td>0</td>\n",
       "      <td>0</td>\n",
       "      <td>0</td>\n",
       "      <td>0</td>\n",
       "      <td>0</td>\n",
       "    </tr>\n",
       "    <tr>\n",
       "      <th>1000003576</th>\n",
       "      <td>0</td>\n",
       "      <td>0</td>\n",
       "      <td>3301</td>\n",
       "      <td>339151</td>\n",
       "      <td>0</td>\n",
       "      <td>1</td>\n",
       "      <td>0</td>\n",
       "      <td>0</td>\n",
       "      <td>0</td>\n",
       "      <td>0</td>\n",
       "      <td>...</td>\n",
       "      <td>0</td>\n",
       "      <td>0</td>\n",
       "      <td>0</td>\n",
       "      <td>0</td>\n",
       "      <td>0</td>\n",
       "      <td>0</td>\n",
       "      <td>0</td>\n",
       "      <td>0</td>\n",
       "      <td>0</td>\n",
       "      <td>0</td>\n",
       "    </tr>\n",
       "  </tbody>\n",
       "</table>\n",
       "<p>5 rows × 24 columns</p>\n",
       "</div>"
      ],
      "text/plain": [
       "                                        Untersuchungsart  \\\n",
       "Laufende Nr. der Materialdokumentation                     \n",
       "1000003572                                             0   \n",
       "1000003573                                             0   \n",
       "1000003574                                             0   \n",
       "1000003575                                             0   \n",
       "1000003576                                             0   \n",
       "\n",
       "                                        Untersuchungsdauer Geplant  Arzt ID  \\\n",
       "Laufende Nr. der Materialdokumentation                                        \n",
       "1000003572                                                       0     3201   \n",
       "1000003573                                                       0     3301   \n",
       "1000003574                                                       0     4415   \n",
       "1000003575                                                       0     3301   \n",
       "1000003576                                                       0     3301   \n",
       "\n",
       "                                        Pflege ID  11129089.0  11129570.0  \\\n",
       "Laufende Nr. der Materialdokumentation                                      \n",
       "1000003572                                 339151           0           0   \n",
       "1000003573                                 339151           0           0   \n",
       "1000003574                                 339151           0           0   \n",
       "1000003575                                 339151           0           0   \n",
       "1000003576                                 339151           0           1   \n",
       "\n",
       "                                        10191424.0  10196004.0  11101690.0  \\\n",
       "Laufende Nr. der Materialdokumentation                                       \n",
       "1000003572                                       0           0           0   \n",
       "1000003573                                       0           0           0   \n",
       "1000003574                                       0           0           0   \n",
       "1000003575                                       0           0           0   \n",
       "1000003576                                       0           0           0   \n",
       "\n",
       "                                        11125327.0  ...  10102023.0  \\\n",
       "Laufende Nr. der Materialdokumentation              ...               \n",
       "1000003572                                       0  ...           0   \n",
       "1000003573                                       0  ...           0   \n",
       "1000003574                                       1  ...           0   \n",
       "1000003575                                       1  ...           0   \n",
       "1000003576                                       0  ...           0   \n",
       "\n",
       "                                        11111564.0  11112681.0  11126828.0  \\\n",
       "Laufende Nr. der Materialdokumentation                                       \n",
       "1000003572                                       0           0           0   \n",
       "1000003573                                       0           0           0   \n",
       "1000003574                                       0           0           0   \n",
       "1000003575                                       0           0           0   \n",
       "1000003576                                       0           0           0   \n",
       "\n",
       "                                        10161327.0  11118566.0  10125401.0  \\\n",
       "Laufende Nr. der Materialdokumentation                                       \n",
       "1000003572                                       0           0           0   \n",
       "1000003573                                       0           0           0   \n",
       "1000003574                                       0           0           0   \n",
       "1000003575                                       0           0           0   \n",
       "1000003576                                       0           0           0   \n",
       "\n",
       "                                        11126396.0  10175708.0  10168171.0  \n",
       "Laufende Nr. der Materialdokumentation                                      \n",
       "1000003572                                       0           0           0  \n",
       "1000003573                                       0           0           0  \n",
       "1000003574                                       0           0           0  \n",
       "1000003575                                       0           0           0  \n",
       "1000003576                                       0           0           0  \n",
       "\n",
       "[5 rows x 24 columns]"
      ]
     },
     "metadata": {},
     "output_type": "display_data"
    },
    {
     "data": {
      "text/plain": []
     },
     "execution_count": 125,
     "metadata": {},
     "output_type": "execute_result"
    }
   ],
   "source": [
    "features.head()"
   ]
  },
  {
   "cell_type": "code",
   "execution_count": 97,
   "id": "6d658731",
   "metadata": {},
   "outputs": [
    {
     "data": {
      "text/plain": [
       "Index([  'Lfd.Nr', 11129089.0, 11129570.0, 10191424.0, 10196004.0, 11101690.0,\n",
       "       11125327.0, 11102264.0, 11126032.0, 11103277.0, 10186917.0, 10102023.0,\n",
       "       11111564.0, 11112681.0, 11126828.0, 10161327.0, 11118566.0, 10125401.0,\n",
       "       11126396.0, 10175708.0, 10168171.0],\n",
       "      dtype='object')"
      ]
     },
     "execution_count": 97,
     "metadata": {},
     "output_type": "execute_result"
    }
   ],
   "source": [
    "# _features.loc[14803876, 10129221]\n",
    "_features.columns"
   ]
  },
  {
   "cell_type": "code",
   "execution_count": 13,
   "id": "b5f9e00c",
   "metadata": {},
   "outputs": [],
   "source": [
    "from sklearn import svm"
   ]
  },
  {
   "cell_type": "code",
   "execution_count": null,
   "id": "e0efe59b",
   "metadata": {},
   "outputs": [],
   "source": [
    "\n"
   ]
  }
 ],
 "metadata": {
  "kernelspec": {
   "display_name": "Python 3",
   "language": "python",
   "name": "python3"
  },
  "language_info": {
   "codemirror_mode": {
    "name": "ipython",
    "version": 3
   },
   "file_extension": ".py",
   "mimetype": "text/x-python",
   "name": "python",
   "nbconvert_exporter": "python",
   "pygments_lexer": "ipython3",
   "version": "3.9.4"
  }
 },
 "nbformat": 4,
 "nbformat_minor": 5
}
