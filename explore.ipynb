{
 "cells": [
  {
   "cell_type": "code",
   "execution_count": 1,
   "id": "2e08d9a4",
   "metadata": {},
   "outputs": [],
   "source": [
    "import pandas as pd\n",
    "import lux\n",
    "from pathlib import Path"
   ]
  },
  {
   "cell_type": "code",
   "execution_count": 2,
   "id": "b7d08ea1",
   "metadata": {},
   "outputs": [
    {
     "name": "stdout",
     "output_type": "stream",
     "text": [
      "Enabling notebook extension luxwidget/extension...\r\n",
      "      - Validating: \u001b[32mOK\u001b[0m\r\n"
     ]
    }
   ],
   "source": [
    "!jupyter nbextension enable --py luxwidget"
   ]
  },
  {
   "cell_type": "code",
   "execution_count": 3,
   "id": "5d8f2d28",
   "metadata": {},
   "outputs": [],
   "source": [
    "data_path = Path.cwd().joinpath(\"data\")"
   ]
  },
  {
   "cell_type": "code",
   "execution_count": 4,
   "id": "84a8fb0b",
   "metadata": {},
   "outputs": [],
   "source": [
    "dataset_name = \"IMD_Endoskopie.xlsx\"\n",
    "\n",
    "df = pd.read_excel(data_path.joinpath(dataset_name))"
   ]
  },
  {
   "cell_type": "code",
   "execution_count": 5,
   "id": "7dd757e1",
   "metadata": {},
   "outputs": [
    {
     "name": "stdout",
     "output_type": "stream",
     "text": [
      "Laufende Nr. der Materialdokumentation: int64\n",
      "Lfd.Nr: int64\n",
      "Angelegt am: datetime64[ns]\n",
      "Erfass.zeit: object\n",
      "Verabreichungsdatum: datetime64[ns]\n",
      "Verabreichungszeit: object\n",
      "Geändert am: datetime64[ns]\n",
      "Uhrzeit: object\n",
      "Fall: int64\n",
      "Status Materialdokumentation: int64\n",
      "Materialnummer: float64\n",
      "Materialtext: object\n",
      "Name 1: object\n",
      "Materialmenge: int64\n",
      "Mengeneinheit: object\n",
      "Materialpreis: float64\n",
      "Währung: object\n",
      "Anford. OE fachlich: int64\n",
      "Anford. OE pfleger.: int64\n",
      "Erbringende Orgeinh: int64\n"
     ]
    }
   ],
   "source": [
    "cols = df.columns\n",
    "for col in cols:\n",
    "    print(f\"{col}: {df[col].dtype}\")"
   ]
  },
  {
   "cell_type": "code",
   "execution_count": 6,
   "id": "a1567b79",
   "metadata": {},
   "outputs": [],
   "source": [
    "df = df.drop(labels = [\"Erfass.zeit\", \"Verabreichungszeit\", \"Uhrzeit\", \"Materialtext\", \"Mengeneinheit\", \"Währung\"], axis = 1)\n"
   ]
  },
  {
   "cell_type": "code",
   "execution_count": 7,
   "id": "eab4693b",
   "metadata": {},
   "outputs": [
    {
     "data": {
      "application/vnd.jupyter.widget-view+json": {
       "model_id": "703d1456e23c44639485fdd46ed54a5c",
       "version_major": 2,
       "version_minor": 0
      },
      "text/plain": [
       "Button(description='Toggle Pandas/Lux', layout=Layout(top='5px', width='140px'), style=ButtonStyle())"
      ]
     },
     "metadata": {},
     "output_type": "display_data"
    },
    {
     "data": {
      "application/vnd.jupyter.widget-view+json": {
       "model_id": "e10bb7fb7cb54256876819dd222e3537",
       "version_major": 2,
       "version_minor": 0
      },
      "text/plain": [
       "Output()"
      ]
     },
     "metadata": {},
     "output_type": "display_data"
    }
   ],
   "source": [
    "df"
   ]
  },
  {
   "cell_type": "code",
   "execution_count": null,
   "id": "c113f80f",
   "metadata": {},
   "outputs": [],
   "source": []
  }
 ],
 "metadata": {
  "kernelspec": {
   "display_name": "Python 3",
   "language": "python",
   "name": "python3"
  },
  "language_info": {
   "codemirror_mode": {
    "name": "ipython",
    "version": 3
   },
   "file_extension": ".py",
   "mimetype": "text/x-python",
   "name": "python",
   "nbconvert_exporter": "python",
   "pygments_lexer": "ipython3",
   "version": "3.9.4"
  }
 },
 "nbformat": 4,
 "nbformat_minor": 5
}
