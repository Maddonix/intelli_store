{
 "cells": [
  {
   "cell_type": "code",
   "execution_count": 2,
   "id": "34fd2801",
   "metadata": {},
   "outputs": [],
   "source": [
    "import pandas as pd\n",
    "import lux"
   ]
  },
  {
   "cell_type": "code",
   "execution_count": 4,
   "id": "370638be",
   "metadata": {},
   "outputs": [],
   "source": [
    "df = pd.read_excel(\"data/IMD_Endoskopie.xlsx\")"
   ]
  },
  {
   "cell_type": "code",
   "execution_count": 5,
   "id": "7b665e67",
   "metadata": {},
   "outputs": [
    {
     "data": {
      "text/plain": [
       "Index(['Laufende Nr. der Materialdokumentation', 'Lfd.Nr', 'Angelegt am',\n",
       "       'Erfass.zeit', 'Verabreichungsdatum', 'Verabreichungszeit',\n",
       "       'Geändert am', 'Uhrzeit', 'Fall', 'Status Materialdokumentation',\n",
       "       'Materialnummer', 'Materialtext', 'Name 1', 'Materialmenge',\n",
       "       'Mengeneinheit', 'Materialpreis', 'Währung', 'Anford. OE fachlich',\n",
       "       'Lfd. Nr. Leistung'],\n",
       "      dtype='object')"
      ]
     },
     "execution_count": 5,
     "metadata": {},
     "output_type": "execute_result"
    }
   ],
   "source": [
    "df.columns"
   ]
  },
  {
   "cell_type": "code",
   "execution_count": 10,
   "id": "e0d5eb4e",
   "metadata": {},
   "outputs": [
    {
     "data": {
      "text/plain": [
       "1445"
      ]
     },
     "execution_count": 10,
     "metadata": {},
     "output_type": "execute_result"
    }
   ],
   "source": [
    "_ = df[\"Laufende Nr. der Materialdokumentation\"].unique()\n",
    "len(_)"
   ]
  },
  {
   "cell_type": "code",
   "execution_count": 7,
   "id": "94639ceb",
   "metadata": {},
   "outputs": [],
   "source": [
    "# transform_str = [\n",
    "#     \"Laufende Nr. der Materialdokumentation\",\n",
    "#     \"Lfd.Nr\",\n",
    "#     \"Fall\",\n",
    "#     \"Status Materialdokumentation\",\n",
    "#     \"Materialnummer\",\n",
    "#     \"Anford. OE fachlich\",\n",
    "#     \"Anford. OE pfleger.\",\n",
    "#     \"Erbringende Orgeinh\"\n",
    "# ]\n",
    "\n",
    "# drop_cols_list = [\n",
    "#     \"Erfass.zeit\",\n",
    "#     \"Uhrzeit\",\n",
    "#     \"Materialtext\",\n",
    "#     \"Name 1\", #only EUR and nan in our list\n",
    "#     \"Mengeneinheit\",\n",
    "#     \"Währung\", \n",
    "#     \"Verabreichungszeit\",\n",
    "# ]"
   ]
  },
  {
   "cell_type": "code",
   "execution_count": null,
   "id": "751f4d32",
   "metadata": {},
   "outputs": [],
   "source": [
    "from collections import Counter"
   ]
  },
  {
   "cell_type": "code",
   "execution_count": 80,
   "id": "96fa3376",
   "metadata": {},
   "outputs": [],
   "source": [
    "mat_ids_counter = Counter(df[\"Materialnummer\"])"
   ]
  },
  {
   "cell_type": "code",
   "execution_count": 81,
   "id": "af03db2b",
   "metadata": {},
   "outputs": [],
   "source": [
    "top_20_mat_id = [_[0] for _ in mat_ids_counter.most_common(20)]"
   ]
  },
  {
   "cell_type": "code",
   "execution_count": 123,
   "id": "a35538f0",
   "metadata": {},
   "outputs": [],
   "source": [
    "def get_features(df, mat_ids):\n",
    "    # make df\n",
    "    cols = [\"Laufende Nr. der Materialdokumentation\", \"Untersuchungsart\", \"Untersuchungsdauer Geplant\", \"Arzt ID\", \"Pflege ID\"] + mat_ids\n",
    "    features = pd.DataFrame(columns = cols)\n",
    "    \n",
    "    # ids\n",
    "    case_ids = df[\"Laufende Nr. der Materialdokumentation\"].unique()\n",
    "    \n",
    "    features[\"Laufende Nr. der Materialdokumentation\"] = case_ids\n",
    "    features = features.fillna(0)\n",
    "    features.set_index(\"Laufende Nr. der Materialdokumentation\", drop = True, inplace = True)\n",
    "    \n",
    "    for case_id in case_ids:\n",
    "        tmp = df[df[\"Laufende Nr. der Materialdokumentation\"] == case_id]\n",
    "        \n",
    "        arzt_id = tmp[\"Anford. OE fachlich\"].unique()\n",
    "        pflege_id = tmp[\"Anford. OE pfleger.\"].unique()\n",
    "        leistung_id = tmp[]\n",
    "        assert len(arzt_id) == 1\n",
    "        assert len(pflege_id) == 1\n",
    "        features.loc[case_id, \"Arzt ID\"] = arzt_id[0]\n",
    "        features.loc[case_id, \"Pflege ID\"] = pflege_id[0]\n",
    "        \n",
    "        # Untersuchungsart\n",
    "        # Untersuchungsdauer Geplant\n",
    "        \n",
    "        for index, row in tmp.iterrows():\n",
    "            mat_nr = row[\"Materialnummer\"]\n",
    "            mat_amount = row[\"Materialmenge\"]\n",
    "            if mat_nr in mat_ids:\n",
    "                features.loc[case_id, mat_nr] += mat_amount\n",
    "            \n",
    "    return features\n",
    "        # Insert arzt + pflege id    "
   ]
  },
  {
   "cell_type": "code",
   "execution_count": 124,
   "id": "6c1f7ca2",
   "metadata": {},
   "outputs": [],
   "source": [
    "features = get_features(df, top_20_mat_id)"
   ]
  },
  {
   "cell_type": "code",
   "execution_count": 125,
   "id": "9c9b7adc",
   "metadata": {},
   "outputs": [
    {
     "name": "stderr",
     "output_type": "stream",
     "text": [
      "D:\\Programming\\miniconda\\envs\\intelli_store\\lib\\site-packages\\IPython\\core\\formatters.py:345: UserWarning:\n",
      "Lux defaults to Pandas when there are no valid actions defined.\n"
     ]
    },
    {
     "data": {
      "text/html": [
       "<div>\n",
       "<style scoped>\n",
       "    .dataframe tbody tr th:only-of-type {\n",
       "        vertical-align: middle;\n",
       "    }\n",
       "\n",
       "    .dataframe tbody tr th {\n",
       "        vertical-align: top;\n",
       "    }\n",
       "\n",
       "    .dataframe thead th {\n",
       "        text-align: right;\n",
       "    }\n",
       "</style>\n",
       "<table border=\"1\" class=\"dataframe\">\n",
       "  <thead>\n",
       "    <tr style=\"text-align: right;\">\n",
       "      <th></th>\n",
       "      <th>Untersuchungsart</th>\n",
       "      <th>Untersuchungsdauer Geplant</th>\n",
       "      <th>Arzt ID</th>\n",
       "      <th>Pflege ID</th>\n",
       "      <th>11129089.0</th>\n",
       "      <th>11129570.0</th>\n",
       "      <th>10191424.0</th>\n",
       "      <th>10196004.0</th>\n",
       "      <th>11101690.0</th>\n",
       "      <th>11125327.0</th>\n",
       "      <th>...</th>\n",
       "      <th>10102023.0</th>\n",
       "      <th>11111564.0</th>\n",
       "      <th>11112681.0</th>\n",
       "      <th>11126828.0</th>\n",
       "      <th>10161327.0</th>\n",
       "      <th>11118566.0</th>\n",
       "      <th>10125401.0</th>\n",
       "      <th>11126396.0</th>\n",
       "      <th>10175708.0</th>\n",
       "      <th>10168171.0</th>\n",
       "    </tr>\n",
       "    <tr>\n",
       "      <th>Laufende Nr. der Materialdokumentation</th>\n",
       "      <th></th>\n",
       "      <th></th>\n",
       "      <th></th>\n",
       "      <th></th>\n",
       "      <th></th>\n",
       "      <th></th>\n",
       "      <th></th>\n",
       "      <th></th>\n",
       "      <th></th>\n",
       "      <th></th>\n",
       "      <th></th>\n",
       "      <th></th>\n",
       "      <th></th>\n",
       "      <th></th>\n",
       "      <th></th>\n",
       "      <th></th>\n",
       "      <th></th>\n",
       "      <th></th>\n",
       "      <th></th>\n",
       "      <th></th>\n",
       "      <th></th>\n",
       "    </tr>\n",
       "  </thead>\n",
       "  <tbody>\n",
       "    <tr>\n",
       "      <th>1000003572</th>\n",
       "      <td>0</td>\n",
       "      <td>0</td>\n",
       "      <td>3201</td>\n",
       "      <td>339151</td>\n",
       "      <td>0</td>\n",
       "      <td>0</td>\n",
       "      <td>0</td>\n",
       "      <td>0</td>\n",
       "      <td>0</td>\n",
       "      <td>0</td>\n",
       "      <td>...</td>\n",
       "      <td>0</td>\n",
       "      <td>0</td>\n",
       "      <td>0</td>\n",
       "      <td>0</td>\n",
       "      <td>0</td>\n",
       "      <td>0</td>\n",
       "      <td>0</td>\n",
       "      <td>0</td>\n",
       "      <td>0</td>\n",
       "      <td>0</td>\n",
       "    </tr>\n",
       "    <tr>\n",
       "      <th>1000003573</th>\n",
       "      <td>0</td>\n",
       "      <td>0</td>\n",
       "      <td>3301</td>\n",
       "      <td>339151</td>\n",
       "      <td>0</td>\n",
       "      <td>0</td>\n",
       "      <td>0</td>\n",
       "      <td>0</td>\n",
       "      <td>0</td>\n",
       "      <td>0</td>\n",
       "      <td>...</td>\n",
       "      <td>0</td>\n",
       "      <td>0</td>\n",
       "      <td>0</td>\n",
       "      <td>0</td>\n",
       "      <td>0</td>\n",
       "      <td>0</td>\n",
       "      <td>0</td>\n",
       "      <td>0</td>\n",
       "      <td>0</td>\n",
       "      <td>0</td>\n",
       "    </tr>\n",
       "    <tr>\n",
       "      <th>1000003574</th>\n",
       "      <td>0</td>\n",
       "      <td>0</td>\n",
       "      <td>4415</td>\n",
       "      <td>339151</td>\n",
       "      <td>0</td>\n",
       "      <td>0</td>\n",
       "      <td>0</td>\n",
       "      <td>0</td>\n",
       "      <td>0</td>\n",
       "      <td>1</td>\n",
       "      <td>...</td>\n",
       "      <td>0</td>\n",
       "      <td>0</td>\n",
       "      <td>0</td>\n",
       "      <td>0</td>\n",
       "      <td>0</td>\n",
       "      <td>0</td>\n",
       "      <td>0</td>\n",
       "      <td>0</td>\n",
       "      <td>0</td>\n",
       "      <td>0</td>\n",
       "    </tr>\n",
       "    <tr>\n",
       "      <th>1000003575</th>\n",
       "      <td>0</td>\n",
       "      <td>0</td>\n",
       "      <td>3301</td>\n",
       "      <td>339151</td>\n",
       "      <td>0</td>\n",
       "      <td>0</td>\n",
       "      <td>0</td>\n",
       "      <td>0</td>\n",
       "      <td>0</td>\n",
       "      <td>1</td>\n",
       "      <td>...</td>\n",
       "      <td>0</td>\n",
       "      <td>0</td>\n",
       "      <td>0</td>\n",
       "      <td>0</td>\n",
       "      <td>0</td>\n",
       "      <td>0</td>\n",
       "      <td>0</td>\n",
       "      <td>0</td>\n",
       "      <td>0</td>\n",
       "      <td>0</td>\n",
       "    </tr>\n",
       "    <tr>\n",
       "      <th>1000003576</th>\n",
       "      <td>0</td>\n",
       "      <td>0</td>\n",
       "      <td>3301</td>\n",
       "      <td>339151</td>\n",
       "      <td>0</td>\n",
       "      <td>1</td>\n",
       "      <td>0</td>\n",
       "      <td>0</td>\n",
       "      <td>0</td>\n",
       "      <td>0</td>\n",
       "      <td>...</td>\n",
       "      <td>0</td>\n",
       "      <td>0</td>\n",
       "      <td>0</td>\n",
       "      <td>0</td>\n",
       "      <td>0</td>\n",
       "      <td>0</td>\n",
       "      <td>0</td>\n",
       "      <td>0</td>\n",
       "      <td>0</td>\n",
       "      <td>0</td>\n",
       "    </tr>\n",
       "  </tbody>\n",
       "</table>\n",
       "<p>5 rows × 24 columns</p>\n",
       "</div>"
      ],
      "text/plain": [
       "                                        Untersuchungsart  \\\n",
       "Laufende Nr. der Materialdokumentation                     \n",
       "1000003572                                             0   \n",
       "1000003573                                             0   \n",
       "1000003574                                             0   \n",
       "1000003575                                             0   \n",
       "1000003576                                             0   \n",
       "\n",
       "                                        Untersuchungsdauer Geplant  Arzt ID  \\\n",
       "Laufende Nr. der Materialdokumentation                                        \n",
       "1000003572                                                       0     3201   \n",
       "1000003573                                                       0     3301   \n",
       "1000003574                                                       0     4415   \n",
       "1000003575                                                       0     3301   \n",
       "1000003576                                                       0     3301   \n",
       "\n",
       "                                        Pflege ID  11129089.0  11129570.0  \\\n",
       "Laufende Nr. der Materialdokumentation                                      \n",
       "1000003572                                 339151           0           0   \n",
       "1000003573                                 339151           0           0   \n",
       "1000003574                                 339151           0           0   \n",
       "1000003575                                 339151           0           0   \n",
       "1000003576                                 339151           0           1   \n",
       "\n",
       "                                        10191424.0  10196004.0  11101690.0  \\\n",
       "Laufende Nr. der Materialdokumentation                                       \n",
       "1000003572                                       0           0           0   \n",
       "1000003573                                       0           0           0   \n",
       "1000003574                                       0           0           0   \n",
       "1000003575                                       0           0           0   \n",
       "1000003576                                       0           0           0   \n",
       "\n",
       "                                        11125327.0  ...  10102023.0  \\\n",
       "Laufende Nr. der Materialdokumentation              ...               \n",
       "1000003572                                       0  ...           0   \n",
       "1000003573                                       0  ...           0   \n",
       "1000003574                                       1  ...           0   \n",
       "1000003575                                       1  ...           0   \n",
       "1000003576                                       0  ...           0   \n",
       "\n",
       "                                        11111564.0  11112681.0  11126828.0  \\\n",
       "Laufende Nr. der Materialdokumentation                                       \n",
       "1000003572                                       0           0           0   \n",
       "1000003573                                       0           0           0   \n",
       "1000003574                                       0           0           0   \n",
       "1000003575                                       0           0           0   \n",
       "1000003576                                       0           0           0   \n",
       "\n",
       "                                        10161327.0  11118566.0  10125401.0  \\\n",
       "Laufende Nr. der Materialdokumentation                                       \n",
       "1000003572                                       0           0           0   \n",
       "1000003573                                       0           0           0   \n",
       "1000003574                                       0           0           0   \n",
       "1000003575                                       0           0           0   \n",
       "1000003576                                       0           0           0   \n",
       "\n",
       "                                        11126396.0  10175708.0  10168171.0  \n",
       "Laufende Nr. der Materialdokumentation                                      \n",
       "1000003572                                       0           0           0  \n",
       "1000003573                                       0           0           0  \n",
       "1000003574                                       0           0           0  \n",
       "1000003575                                       0           0           0  \n",
       "1000003576                                       0           0           0  \n",
       "\n",
       "[5 rows x 24 columns]"
      ]
     },
     "metadata": {},
     "output_type": "display_data"
    },
    {
     "data": {
      "text/plain": []
     },
     "execution_count": 125,
     "metadata": {},
     "output_type": "execute_result"
    }
   ],
   "source": [
    "features.head()"
   ]
  },
  {
   "cell_type": "code",
   "execution_count": 97,
   "id": "38a65eb7",
   "metadata": {},
   "outputs": [
    {
     "data": {
      "text/plain": [
       "Index([  'Lfd.Nr', 11129089.0, 11129570.0, 10191424.0, 10196004.0, 11101690.0,\n",
       "       11125327.0, 11102264.0, 11126032.0, 11103277.0, 10186917.0, 10102023.0,\n",
       "       11111564.0, 11112681.0, 11126828.0, 10161327.0, 11118566.0, 10125401.0,\n",
       "       11126396.0, 10175708.0, 10168171.0],\n",
       "      dtype='object')"
      ]
     },
     "execution_count": 97,
     "metadata": {},
     "output_type": "execute_result"
    }
   ],
   "source": [
    "# _features.loc[14803876, 10129221]\n",
    "_features.columns"
   ]
  },
  {
   "cell_type": "code",
   "execution_count": 13,
   "id": "50b8c128",
   "metadata": {},
   "outputs": [],
   "source": [
    "from sklearn import svm"
   ]
  },
  {
   "cell_type": "code",
   "execution_count": null,
   "id": "7fff485b",
   "metadata": {},
   "outputs": [],
   "source": [
    "\n"
   ]
  }
 ],
 "metadata": {
  "kernelspec": {
   "display_name": "Python 3",
   "language": "python",
   "name": "python3"
  },
  "language_info": {
   "codemirror_mode": {
    "name": "ipython",
    "version": 3
   },
   "file_extension": ".py",
   "mimetype": "text/x-python",
   "name": "python",
   "nbconvert_exporter": "python",
   "pygments_lexer": "ipython3",
   "version": "3.9.4"
  }
 },
 "nbformat": 4,
 "nbformat_minor": 5
}
